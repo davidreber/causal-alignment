{
 "cells": [
  {
   "cell_type": "code",
   "execution_count": 1,
   "id": "81d11e8f",
   "metadata": {},
   "outputs": [],
   "source": [
    "import numpy as np"
   ]
  },
  {
   "cell_type": "code",
   "execution_count": 2,
   "id": "c076b8a1",
   "metadata": {},
   "outputs": [
    {
     "name": "stdout",
     "output_type": "stream",
     "text": [
      "[[1.         0.         0.         0.        ]\n",
      " [0.86206897 1.72413793 1.03448276 0.82758621]\n",
      " [0.60344828 1.20689655 1.72413793 1.37931034]\n",
      " [0.         0.         0.         1.        ]]\n"
     ]
    }
   ],
   "source": [
    "a21, a23 = 0.5,0.6\n",
    "a32, a34 = 0.7,0.8\n",
    "\n",
    "A = np.array([[0,0,0,0],[a21,0,a23,0],[0,a32,0,a34],[0,0,0,0]])\n",
    "print(np.linalg.inv(np.eye(4)-A))"
   ]
  },
  {
   "cell_type": "code",
   "execution_count": 3,
   "id": "09ae3052",
   "metadata": {},
   "outputs": [
    {
     "name": "stdout",
     "output_type": "stream",
     "text": [
      "[[-1. -1.]\n",
      " [-2. -1.]]\n"
     ]
    }
   ],
   "source": [
    "A  = np.array([[0,1],[2,0]])\n",
    "print(np.linalg.inv(np.eye(2)-A))"
   ]
  },
  {
   "cell_type": "code",
   "execution_count": 4,
   "id": "edbe9967",
   "metadata": {},
   "outputs": [],
   "source": [
    "def radius(A): # consistently fastest\n",
    "    return np.max(np.abs(np.linalg.eigvals(A)))"
   ]
  },
  {
   "cell_type": "code",
   "execution_count": 8,
   "id": "7c791a95",
   "metadata": {},
   "outputs": [],
   "source": [
    "n = 3\n",
    "A_mean = 0.0*np.zeros(n**2)\n",
    "A_cov = np.diag(np.ones(n**2))\n",
    "\n",
    "for i in range(1000000):\n",
    "    A = np.round(np.random.multivariate_normal(A_mean,A_cov).reshape(n,n),1)\n",
    "    if radius(np.abs(A))<1:\n",
    "        if not radius(A)<1:\n",
    "            # Found counterexample\n",
    "            print(A)\n",
    "            print(radius(np.abs(A)))\n",
    "            print(radius(A))"
   ]
  },
  {
   "cell_type": "code",
   "execution_count": null,
   "id": "d288bf28",
   "metadata": {},
   "outputs": [],
   "source": []
  }
 ],
 "metadata": {
  "kernelspec": {
   "display_name": "Python 3",
   "language": "python",
   "name": "python3"
  },
  "language_info": {
   "codemirror_mode": {
    "name": "ipython",
    "version": 3
   },
   "file_extension": ".py",
   "mimetype": "text/x-python",
   "name": "python",
   "nbconvert_exporter": "python",
   "pygments_lexer": "ipython3",
   "version": "3.8.5"
  }
 },
 "nbformat": 4,
 "nbformat_minor": 5
}
