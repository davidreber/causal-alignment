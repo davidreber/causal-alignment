{
 "cells": [
  {
   "cell_type": "code",
   "execution_count": 1,
   "id": "c06ab0a1",
   "metadata": {},
   "outputs": [],
   "source": [
    "import numpy as np\n",
    "from matplotlib import pyplot as plt\n",
    "from scipy.stats import truncnorm\n",
    "from fcit import fcit"
   ]
  },
  {
   "cell_type": "markdown",
   "id": "4bdfba3c",
   "metadata": {},
   "source": [
    "fcit: small pvlaue means dependant, large means independant."
   ]
  },
  {
   "cell_type": "code",
   "execution_count": 2,
   "id": "e7013030",
   "metadata": {},
   "outputs": [],
   "source": [
    "def radius(A): # consistently fastest\n",
    "    return np.max(np.abs(np.linalg.eigvals(A)))\n",
    "\n",
    "def F(x,e,c=0.9):\n",
    "    f0, f1 = e[:2]\n",
    "    f2 = c*np.sin(x[0])*np.cos(x[3])+e[2]\n",
    "    f3 = c*np.sin(x[1])*np.cos(x[2])+e[3]\n",
    "    return np.vstack([f0,f1,f2,f3])\n",
    "\n",
    "def find_stationary(e,x,length = 100,c=0.9):\n",
    "    for t in range(length):\n",
    "        x = F(x,e,c=c)\n",
    "    return x"
   ]
  },
  {
   "cell_type": "code",
   "execution_count": 3,
   "id": "c4a065c9",
   "metadata": {
    "scrolled": true
   },
   "outputs": [
    {
     "name": "stdout",
     "output_type": "stream",
     "text": [
      "(4, 1000) (4, 1000)\n",
      "(1000, 1) (1000, 1) (1000, 2)\n",
      "Pval: 0.5\n",
      "Independant\n"
     ]
    }
   ],
   "source": [
    "c = 0.9\n",
    "\n",
    "# Monte Carlo from P(V)\n",
    "num_points = 1000\n",
    "\n",
    "mu = np.zeros(4)\n",
    "cov = np.diag(np.ones(4))\n",
    "e = np.random.multivariate_normal(mu,cov,num_points).T\n",
    "x = np.copy(e)\n",
    "print(e.shape,x.shape)\n",
    "\n",
    "Pv = find_stationary(e,x,c=c)\n",
    "# print(Pv.shape)\n",
    "# for vi in Pv:\n",
    "#     plt.hist(vi,bins=100)\n",
    "#     plt.show()\n",
    "\n",
    "\n",
    "# Test whether ( V[0], V[1] | V[2], V[3] ) is independent, or dependant.\n",
    "\n",
    "x = Pv[0,:].reshape((num_points,1))\n",
    "y = Pv[1,:].reshape((num_points,1))\n",
    "z = Pv.T[:,2:]\n",
    "print(x.shape,y.shape,z.shape)\n",
    "\n",
    "pval = fcit.test(x, y, z)\n",
    "print(\"Pval:\",pval)\n",
    "\n",
    "if pval > 0.1:\n",
    "    print(\"Independant\")\n",
    "else:\n",
    "    print(\"Dependant\")"
   ]
  },
  {
   "cell_type": "code",
   "execution_count": 4,
   "id": "dc802da2",
   "metadata": {},
   "outputs": [
    {
     "name": "stdout",
     "output_type": "stream",
     "text": [
      "(4, 1000) (4, 1000)\n",
      "(1000, 1) (1000, 1) (1000, 2)\n",
      "Pval: 0.35018121421588666\n",
      "Independant\n"
     ]
    }
   ],
   "source": [
    "c = 100.\n",
    "\n",
    "# Monte Carlo from P(V)\n",
    "num_points = 1000\n",
    "\n",
    "mu = np.zeros(4)\n",
    "cov = np.diag(np.ones(4))\n",
    "e = np.random.multivariate_normal(mu,cov,num_points).T\n",
    "x = np.copy(e)\n",
    "print(e.shape,x.shape)\n",
    "\n",
    "Pv = find_stationary(e,x,c=c)\n",
    "# print(Pv.shape)\n",
    "# for vi in Pv:\n",
    "#     plt.hist(vi,bins=100)\n",
    "#     plt.show()\n",
    "\n",
    "\n",
    "# Test whether ( V[0], V[1] | V[2], V[3] ) is independent, or dependant.\n",
    "\n",
    "x = Pv[0,:].reshape((num_points,1))\n",
    "y = Pv[1,:].reshape((num_points,1))\n",
    "z = Pv.T[:,2:]\n",
    "print(x.shape,y.shape,z.shape)\n",
    "\n",
    "pval = fcit.test(x, y, z)\n",
    "print(\"Pval:\",pval)\n",
    "\n",
    "if pval > 0.1:\n",
    "    print(\"Independant\")\n",
    "else:\n",
    "    print(\"Dependant\")"
   ]
  },
  {
   "cell_type": "code",
   "execution_count": null,
   "id": "d8cc3113",
   "metadata": {},
   "outputs": [],
   "source": []
  }
 ],
 "metadata": {
  "kernelspec": {
   "display_name": "Python 3",
   "language": "python",
   "name": "python3"
  },
  "language_info": {
   "codemirror_mode": {
    "name": "ipython",
    "version": 3
   },
   "file_extension": ".py",
   "mimetype": "text/x-python",
   "name": "python",
   "nbconvert_exporter": "python",
   "pygments_lexer": "ipython3",
   "version": "3.8.5"
  }
 },
 "nbformat": 4,
 "nbformat_minor": 5
}
