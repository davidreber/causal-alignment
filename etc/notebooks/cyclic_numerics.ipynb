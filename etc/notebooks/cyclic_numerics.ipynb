{
 "cells": [
  {
   "cell_type": "code",
   "execution_count": 1,
   "id": "c06ab0a1",
   "metadata": {},
   "outputs": [],
   "source": [
    "import numpy as np\n",
    "from matplotlib import pyplot as plt\n",
    "from scipy.stats import truncnorm"
   ]
  },
  {
   "cell_type": "code",
   "execution_count": 2,
   "id": "e7013030",
   "metadata": {},
   "outputs": [],
   "source": [
    "def radius(A): # consistently fastest\n",
    "    return np.max(np.abs(np.linalg.eigvals(A)))"
   ]
  },
  {
   "cell_type": "markdown",
   "id": "045d19cd",
   "metadata": {},
   "source": [
    "example taken from https://www.jmlr.org/papers/volume13/hyttinen12a/hyttinen12a.pdf"
   ]
  },
  {
   "cell_type": "code",
   "execution_count": 3,
   "id": "10a91ecd",
   "metadata": {},
   "outputs": [
    {
     "data": {
      "text/plain": [
       "0.9886047987633151"
      ]
     },
     "execution_count": 3,
     "metadata": {},
     "output_type": "execute_result"
    }
   ],
   "source": [
    "A = np.array([[0,0.9,0],[-0.7,0,0.8],[-0.8,0,0]])\n",
    "\n",
    "radius(A)"
   ]
  },
  {
   "cell_type": "code",
   "execution_count": 4,
   "id": "e79ef1d6",
   "metadata": {},
   "outputs": [
    {
     "data": {
      "text/plain": [
       "1.0788441631945838"
      ]
     },
     "execution_count": 4,
     "metadata": {},
     "output_type": "execute_result"
    }
   ],
   "source": [
    "radius(np.abs(A))"
   ]
  },
  {
   "cell_type": "code",
   "execution_count": 5,
   "id": "5b290313",
   "metadata": {},
   "outputs": [
    {
     "name": "stdout",
     "output_type": "stream",
     "text": [
      "[[ 0.   0.9  0. ]\n",
      " [-0.7  0.   0.8]\n",
      " [-0.8  0.   0. ]]\n"
     ]
    },
    {
     "data": {
      "text/plain": [
       "0.9886047987633151"
      ]
     },
     "execution_count": 5,
     "metadata": {},
     "output_type": "execute_result"
    }
   ],
   "source": [
    "A = np.array([[0,0.9,0],[-0.7,0,0.8],[-0.8,0,0]])\n",
    "print(A)\n",
    "radius(A)"
   ]
  },
  {
   "cell_type": "code",
   "execution_count": 6,
   "id": "6af728a0",
   "metadata": {},
   "outputs": [
    {
     "name": "stdout",
     "output_type": "stream",
     "text": [
      "[[ 1.   0.1]\n",
      " [-0.1 -0.1]]\n",
      "[ 0.99083269 -0.09083269]\n",
      "0.9908326913195985\n",
      "1.0109772228646445\n"
     ]
    }
   ],
   "source": [
    "A = np.array([[1,.1],[-.1,-.1]])\n",
    "print(A)\n",
    "print(np.linalg.eigvals(A))\n",
    "print(radius(A))\n",
    "print(radius(np.abs(A)))"
   ]
  },
  {
   "cell_type": "markdown",
   "id": "e3011cc9",
   "metadata": {},
   "source": [
    "example A.8 from Foundations supplemental."
   ]
  },
  {
   "cell_type": "code",
   "execution_count": 7,
   "id": "b9fff111",
   "metadata": {},
   "outputs": [
    {
     "data": {
      "text/plain": [
       "0.99"
      ]
     },
     "execution_count": 7,
     "metadata": {},
     "output_type": "execute_result"
    }
   ],
   "source": [
    "c = .99\n",
    "A = np.array([[0,0,0,0],[0,0,0,0],[c,0,0,c],[0,c,c,0]])\n",
    "\n",
    "radius(A)"
   ]
  },
  {
   "cell_type": "code",
   "execution_count": 8,
   "id": "e066f8eb",
   "metadata": {},
   "outputs": [
    {
     "data": {
      "image/png": "[encoded data removed]",
      "text/plain": [
       "<Figure size 432x288 with 1 Axes>"
      ]
     },
     "metadata": {
      "needs_background": "light"
     },
     "output_type": "display_data"
    }
   ],
   "source": [
    "# user input\n",
    "myclip_a = -1\n",
    "myclip_b = 1\n",
    "my_mean = 0.\n",
    "my_std = 0.3\n",
    "\n",
    "a, b = (myclip_a - my_mean) / my_std, (myclip_b - my_mean) / my_std\n",
    "X = np.linspace(-1,1,1000)\n",
    "# pdf = truncnorm.pdf(X, a, b, loc = my_mean, scale = my_std)\n",
    "Y = truncnorm.rvs(a, b, loc = my_mean, scale = my_std, size=10000)\n",
    "assert np.all(Y>-1)\n",
    "assert np.all(Y<1)\n",
    "plt.hist(Y,bins=100)\n",
    "plt.show()"
   ]
  },
  {
   "cell_type": "code",
   "execution_count": 9,
   "id": "7c829e76",
   "metadata": {},
   "outputs": [],
   "source": [
    "def uni_trunc_normal(lower,upper,mean,std,n):\n",
    "    \"lower and upper truncated bounds, mean, std, n=num_points\"\n",
    "    a, b = (lower - mean) / std, (upper - mean) / std\n",
    "    X = np.linspace(lower,upper,1000)\n",
    "    Y = truncnorm.rvs(a, b, loc = mean, scale = std, size=n)\n",
    "    assert np.all(Y>-1)\n",
    "    assert np.all(Y<1)\n",
    "    return np.array(Y)"
   ]
  },
  {
   "cell_type": "code",
   "execution_count": 10,
   "id": "71f65b78",
   "metadata": {},
   "outputs": [
    {
     "data": {
      "text/plain": [
       "(10000, 4)"
      ]
     },
     "execution_count": 10,
     "metadata": {},
     "output_type": "execute_result"
    }
   ],
   "source": [
    "n = 100\n",
    "E = np.vstack([uni_trunc_normal(-1,1,0,0.3,n) for i in range(4)]).T\n",
    "E.shape"
   ]
  },
  {
   "cell_type": "code",
   "execution_count": 15,
   "id": "fa206a7d",
   "metadata": {},
   "outputs": [
    {
     "data": {
      "text/plain": [
       "(10000, 4)"
      ]
     },
     "execution_count": 15,
     "metadata": {},
     "output_type": "execute_result"
    }
   ],
   "source": [
    "def F(e, epsilon=1e-5):\n",
    "    if np.product(e[:2]) < epsilon:\n",
    "        return e\n",
    "    else:\n",
    "        x3 = (e[0]*e[3]+e[2])/(1-e[0]*e[1])\n",
    "        x4 = x3*e[1] + e[3]\n",
    "        return [e[0],e[1],x3,x4]\n",
    "V = np.apply_along_axis(F, 1, E)\n",
    "V.shape"
   ]
  },
  {
   "cell_type": "code",
   "execution_count": 16,
   "id": "6c65197d",
   "metadata": {
    "scrolled": true
   },
   "outputs": [
    {
     "data": {
      "image/png": "[encoded data removed]",
      "text/plain": [
       "<Figure size 432x288 with 1 Axes>"
      ]
     },
     "metadata": {
      "needs_background": "light"
     },
     "output_type": "display_data"
    },
    {
     "data": {
      "image/png": "[encoded data removed]",
      "text/plain": [
       "<Figure size 432x288 with 1 Axes>"
      ]
     },
     "metadata": {
      "needs_background": "light"
     },
     "output_type": "display_data"
    },
    {
     "data": {
      "image/png": "[encoded data removed]",
      "text/plain": [
       "<Figure size 432x288 with 1 Axes>"
      ]
     },
     "metadata": {
      "needs_background": "light"
     },
     "output_type": "display_data"
    },
    {
     "data": {
      "image/png": "[encoded data removed]",
      "text/plain": [
       "<Figure size 432x288 with 1 Axes>"
      ]
     },
     "metadata": {
      "needs_background": "light"
     },
     "output_type": "display_data"
    }
   ],
   "source": [
    "for i in range(4):\n",
    "    plt.hist(V[:,i],bins=100)\n",
    "    plt.show()"
   ]
  },
  {
   "cell_type": "code",
   "execution_count": null,
   "id": "b1393058",
   "metadata": {},
   "outputs": [],
   "source": [
    "lhs = np.mean(V)"
   ]
  },
  {
   "cell_type": "code",
   "execution_count": null,
   "id": "b6ab6260",
   "metadata": {},
   "outputs": [],
   "source": [
    "def conditional_probs(data,I,J):\n",
    "    \"\"\"Compute P(data_I | data_J)\n",
    "    I and J are tuples of variable indices\n",
    "    data is shape (num_samples, num_variables)\n",
    "    \"\"\"\n",
    "    \n",
    "    \n",
    "    given_mask = np.ones(len(data),dtype=bool)\n",
    "    for col in givens:\n",
    "        given_mask = np.logical_and(given_mask,data[col])\n",
    "    data[given_mask]\n",
    "    \n",
    "    primary_mask = np.ones(len(data[given_mask]),dtype=bool)\n",
    "    for col in primaries:\n",
    "        primary_mask = np.logical_and(primary_mask,data[given_mask][col])\n",
    "    \n",
    "    return np.mean(primary_mask)"
   ]
  },
  {
   "cell_type": "code",
   "execution_count": 17,
   "id": "8854acb1",
   "metadata": {},
   "outputs": [],
   "source": [
    "import numpy as np\n",
    "from fcit import fcit\n",
    "\n",
    "x = np.random.rand(1000, 1)\n",
    "y = np.random.randn(1000, 1)\n",
    "\n",
    "pval_i = fcit.test(x, y) # p-value should be uniform on [0, 1].\n",
    "pval_d = fcit.test(x, x + y) # p-value should be very small."
   ]
  },
  {
   "cell_type": "code",
   "execution_count": 18,
   "id": "eee48be6",
   "metadata": {},
   "outputs": [
    {
     "name": "stdout",
     "output_type": "stream",
     "text": [
      "0.73536290011725\n",
      "0.008192571726836819\n"
     ]
    }
   ],
   "source": [
    "print(pval_i)\n",
    "print(pval_d)"
   ]
  },
  {
   "cell_type": "code",
   "execution_count": 20,
   "id": "23260913",
   "metadata": {},
   "outputs": [
    {
     "name": "stdout",
     "output_type": "stream",
     "text": [
      "1.2312517534714203e-05\n",
      "0.5\n"
     ]
    }
   ],
   "source": [
    "# Generate some data such that x is indpendent of y given z.\n",
    "n_samples = 1000\n",
    "z = np.random.dirichlet(alpha=np.ones(2), size=n_samples)\n",
    "x = np.vstack([np.random.multinomial(20, p) for p in z]).astype(float)\n",
    "y = np.vstack([np.random.multinomial(20, p) for p in z]).astype(float)\n",
    "\n",
    "# Check that x and y are dependent (p-value should be uniform on [0, 1]).\n",
    "pval_d = fcit.test(x, y)\n",
    "print(pval_d)\n",
    "# Check that z d-separates x and y (the p-value should be small).\n",
    "pval_i = fcit.test(x, y, z)\n",
    "print(pval_i)"
   ]
  },
  {
   "cell_type": "code",
   "execution_count": 21,
   "id": "ba283cd4",
   "metadata": {},
   "outputs": [
    {
     "data": {
      "text/plain": [
       "(1000, 2)"
      ]
     },
     "execution_count": 21,
     "metadata": {},
     "output_type": "execute_result"
    }
   ],
   "source": [
    "x.shape"
   ]
  },
  {
   "cell_type": "code",
   "execution_count": 22,
   "id": "1e37e83c",
   "metadata": {},
   "outputs": [
    {
     "data": {
      "text/plain": [
       "(1000, 2)"
      ]
     },
     "execution_count": 22,
     "metadata": {},
     "output_type": "execute_result"
    }
   ],
   "source": [
    "y.shape"
   ]
  },
  {
   "cell_type": "code",
   "execution_count": null,
   "id": "368db678",
   "metadata": {},
   "outputs": [],
   "source": []
  }
 ],
 "metadata": {
  "kernelspec": {
   "display_name": "Python 3",
   "language": "python",
   "name": "python3"
  },
  "language_info": {
   "codemirror_mode": {
    "name": "ipython",
    "version": 3
   },
   "file_extension": ".py",
   "mimetype": "text/x-python",
   "name": "python",
   "nbconvert_exporter": "python",
   "pygments_lexer": "ipython3",
   "version": "3.8.5"
  }
 },
 "nbformat": 4,
 "nbformat_minor": 5
}
