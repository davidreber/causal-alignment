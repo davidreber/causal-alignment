{
 "cells": [
  {
   "cell_type": "code",
   "execution_count": 1,
   "id": "6470057f",
   "metadata": {},
   "outputs": [],
   "source": [
    "import numpy as np\n",
    "from itertools import combinations, product\n",
    "from matplotlib import pyplot as plt\n",
    "from tqdm import tqdm\n",
    "import time"
   ]
  },
  {
   "cell_type": "code",
   "execution_count": 2,
   "id": "81dbc491",
   "metadata": {},
   "outputs": [],
   "source": [
    "def radius(A): # consistently fastest\n",
    "    return np.max(np.abs(np.linalg.eigvals(A)))\n",
    "\n",
    "def generate_intrinsic(lower,upper,n,rnd=1,seconds=60):\n",
    "    start = time.time()\n",
    "    while time.time() - start < seconds:\n",
    "        A = np.round(np.random.uniform(lower,upper,size=(n,n)),rnd)\n",
    "        if radius(np.abs(A)) < 1:\n",
    "            return A\n",
    "    raise ValueError(\"allotted time exceeded\")"
   ]
  },
  {
   "cell_type": "code",
   "execution_count": 199,
   "id": "19010aa6",
   "metadata": {},
   "outputs": [
    {
     "name": "stdout",
     "output_type": "stream",
     "text": [
      "[[ 0.80414612  0.04595154]\n",
      " [ 1.         -0.02663997]]\n",
      "0.8561960404942556\n",
      "0.8593305373019305\n"
     ]
    }
   ],
   "source": [
    "c = 0.1\n",
    "\n",
    "eps = np.random.uniform(c,2*c)\n",
    "assert eps > 0\n",
    "B_d = np.random.uniform(-c,0)\n",
    "B_s = np.random.uniform(0,c)\n",
    "assert np.abs(B_d) < c\n",
    "assert np.abs(B_s) < c\n",
    "\n",
    "A = np.array([[1-eps,-B_d],[1,-B_s]])\n",
    "print(A)\n",
    "print(radius(A))\n",
    "print(radius(np.abs(A)))"
   ]
  },
  {
   "cell_type": "code",
   "execution_count": null,
   "id": "7a5cbb59",
   "metadata": {},
   "outputs": [],
   "source": []
  }
 ],
 "metadata": {
  "kernelspec": {
   "display_name": "Python 3",
   "language": "python",
   "name": "python3"
  },
  "language_info": {
   "codemirror_mode": {
    "name": "ipython",
    "version": 3
   },
   "file_extension": ".py",
   "mimetype": "text/x-python",
   "name": "python",
   "nbconvert_exporter": "python",
   "pygments_lexer": "ipython3",
   "version": "3.8.5"
  }
 },
 "nbformat": 4,
 "nbformat_minor": 5
}
