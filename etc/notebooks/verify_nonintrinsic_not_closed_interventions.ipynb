{
 "cells": [
  {
   "cell_type": "code",
   "execution_count": 1,
   "id": "6470057f",
   "metadata": {},
   "outputs": [],
   "source": [
    "import numpy as np\n",
    "from itertools import combinations, product\n",
    "from matplotlib import pyplot as plt\n",
    "from tqdm import tqdm\n",
    "import time"
   ]
  },
  {
   "cell_type": "code",
   "execution_count": 15,
   "id": "81dbc491",
   "metadata": {},
   "outputs": [],
   "source": [
    "def radius(A): # consistently fastest\n",
    "    return np.max(np.abs(np.linalg.eigvals(A)))\n",
    "\n",
    "def generate_intrinsic(lower,upper,n,rnd=1,seconds=60):\n",
    "    start = time.time()\n",
    "    while time.time() - start < seconds:\n",
    "        A = np.round(np.random.uniform(lower,upper,size=(n,n)),rnd)\n",
    "        if radius(np.abs(A)) < 1:\n",
    "            return A\n",
    "    raise ValueError(\"allotted time exceeded\")\n",
    "    \n",
    "def generate_stable(lower,upper,n,rnd=1,seconds=60):\n",
    "    start = time.time()\n",
    "    while time.time() - start < seconds:\n",
    "        A = np.round(np.random.uniform(lower,upper,size=(n,n)),rnd)\n",
    "        if radius(A) < 1:\n",
    "            return A\n",
    "    raise ValueError(\"allotted time exceeded\")\n",
    "    \n",
    "def is_uniquely_solvable(A):\n",
    "    n = np.shape(A)[0]\n",
    "#     return np.linalg.det(np.eye(n) - A) != 0.\n",
    "    return radius(A) < 1\n",
    "\n",
    "def is_simple(A):\n",
    "    n = np.shape(A)[0]\n",
    "    for k in range(1,n+1):\n",
    "        for indices in combinations(range(n),k):\n",
    "            if not is_uniquely_solvable(A[np.ix_(indices,indices)]):\n",
    "                return False\n",
    "    return True\n",
    "\n",
    "def generate_simple(lower,upper,n,rnd=1,seconds=60):\n",
    "    start = time.time()\n",
    "    while time.time() - start < seconds:\n",
    "        A = np.round(np.random.uniform(lower,upper,size=(n,n)),rnd)\n",
    "        if is_simple(A):\n",
    "            return A\n",
    "    raise ValueError(\"allotted time exceeded\")\n",
    "    \n",
    "# def output_minors"
   ]
  },
  {
   "cell_type": "code",
   "execution_count": 16,
   "id": "e6169562",
   "metadata": {},
   "outputs": [],
   "source": [
    "# lower, upper = -2, 2\n",
    "# n = 3\n",
    "\n",
    "# A = generate_simple(lower,upper,n,rnd=1,seconds=60)\n",
    "# print(A)\n",
    "# print(radius(A))\n",
    "# print(radius(np.abs(A)))\n",
    "# print(np.linalg.det(np.eye(n)-A))\n",
    "# print(np.linalg.det(np.eye(n)-np.abs(A)))"
   ]
  },
  {
   "cell_type": "code",
   "execution_count": 21,
   "id": "94c94036",
   "metadata": {},
   "outputs": [
    {
     "name": "stdout",
     "output_type": "stream",
     "text": [
      "n=2\n"
     ]
    },
    {
     "name": "stderr",
     "output_type": "stream",
     "text": [
      "100%|██████████| 100/100 [00:00<00:00, 669.34it/s]\n"
     ]
    },
    {
     "name": "stdout",
     "output_type": "stream",
     "text": [
      "n=3\n"
     ]
    },
    {
     "name": "stderr",
     "output_type": "stream",
     "text": [
      "100%|██████████| 100/100 [00:02<00:00, 44.74it/s]\n"
     ]
    },
    {
     "name": "stdout",
     "output_type": "stream",
     "text": [
      "n=4\n"
     ]
    },
    {
     "name": "stderr",
     "output_type": "stream",
     "text": [
      "100%|██████████| 100/100 [05:37<00:00,  3.38s/it]\n"
     ]
    }
   ],
   "source": [
    "# Check if linearization preserves strong simplicity (it does not)\n",
    "epsilon = 1e-5\n",
    "\n",
    "for n in range(2,5):\n",
    "    print(\"n={}\".format(n))\n",
    "    time.sleep(0.5)\n",
    "    for i in tqdm(range(100)):\n",
    "        A = generate_simple(-2,2,n,rnd=1,seconds=600)\n",
    "        for k in range(1,n):\n",
    "            for indices in combinations(range(n),k):\n",
    "                assert radius(A[np.ix_(indices,indices)]) < 1, (radius(A[np.ix_(indices,indices)]), radius(A))\n",
    "                if not radius(np.abs(A[np.ix_(indices,indices)])) < 1:\n",
    "                    assert radius(np.abs(A)) > 1"
   ]
  },
  {
   "cell_type": "code",
   "execution_count": 20,
   "id": "8203352d",
   "metadata": {},
   "outputs": [
    {
     "name": "stdout",
     "output_type": "stream",
     "text": [
      "n=2\n"
     ]
    },
    {
     "name": "stderr",
     "output_type": "stream",
     "text": [
      "100%|██████████| 100/100 [00:00<00:00, 788.02it/s]\n"
     ]
    },
    {
     "name": "stdout",
     "output_type": "stream",
     "text": [
      "n=3\n"
     ]
    },
    {
     "name": "stderr",
     "output_type": "stream",
     "text": [
      "  0%|          | 0/100 [00:00<?, ?it/s]\n"
     ]
    },
    {
     "ename": "AssertionError",
     "evalue": "(0.44721359549995787, 1.084428877022476, 1.2663444442733511)",
     "output_type": "error",
     "traceback": [
      "\u001b[0;31m---------------------------------------------------------------------------\u001b[0m",
      "\u001b[0;31mAssertionError\u001b[0m                            Traceback (most recent call last)",
      "\u001b[0;32m<ipython-input-20-17d73c7d2512>\u001b[0m in \u001b[0;36m<module>\u001b[0;34m\u001b[0m\n\u001b[1;32m     10\u001b[0m             \u001b[0;32mfor\u001b[0m \u001b[0mindices\u001b[0m \u001b[0;32min\u001b[0m \u001b[0mcombinations\u001b[0m\u001b[0;34m(\u001b[0m\u001b[0mrange\u001b[0m\u001b[0;34m(\u001b[0m\u001b[0mn\u001b[0m\u001b[0;34m)\u001b[0m\u001b[0;34m,\u001b[0m\u001b[0mk\u001b[0m\u001b[0;34m)\u001b[0m\u001b[0;34m:\u001b[0m\u001b[0;34m\u001b[0m\u001b[0;34m\u001b[0m\u001b[0m\n\u001b[1;32m     11\u001b[0m                 \u001b[0;32massert\u001b[0m \u001b[0mradius\u001b[0m\u001b[0;34m(\u001b[0m\u001b[0mA\u001b[0m\u001b[0;34m[\u001b[0m\u001b[0mnp\u001b[0m\u001b[0;34m.\u001b[0m\u001b[0mix_\u001b[0m\u001b[0;34m(\u001b[0m\u001b[0mindices\u001b[0m\u001b[0;34m,\u001b[0m\u001b[0mindices\u001b[0m\u001b[0;34m)\u001b[0m\u001b[0;34m]\u001b[0m\u001b[0;34m)\u001b[0m \u001b[0;34m<\u001b[0m \u001b[0;36m1\u001b[0m\u001b[0;34m,\u001b[0m \u001b[0;34m(\u001b[0m\u001b[0mradius\u001b[0m\u001b[0;34m(\u001b[0m\u001b[0mA\u001b[0m\u001b[0;34m[\u001b[0m\u001b[0mnp\u001b[0m\u001b[0;34m.\u001b[0m\u001b[0mix_\u001b[0m\u001b[0;34m(\u001b[0m\u001b[0mindices\u001b[0m\u001b[0;34m,\u001b[0m\u001b[0mindices\u001b[0m\u001b[0;34m)\u001b[0m\u001b[0;34m]\u001b[0m\u001b[0;34m)\u001b[0m\u001b[0;34m,\u001b[0m \u001b[0mradius\u001b[0m\u001b[0;34m(\u001b[0m\u001b[0mA\u001b[0m\u001b[0;34m)\u001b[0m\u001b[0;34m)\u001b[0m\u001b[0;34m\u001b[0m\u001b[0;34m\u001b[0m\u001b[0m\n\u001b[0;32m---> 12\u001b[0;31m                 \u001b[0;32massert\u001b[0m \u001b[0mradius\u001b[0m\u001b[0;34m(\u001b[0m\u001b[0mnp\u001b[0m\u001b[0;34m.\u001b[0m\u001b[0mabs\u001b[0m\u001b[0;34m(\u001b[0m\u001b[0mA\u001b[0m\u001b[0;34m[\u001b[0m\u001b[0mnp\u001b[0m\u001b[0;34m.\u001b[0m\u001b[0mix_\u001b[0m\u001b[0;34m(\u001b[0m\u001b[0mindices\u001b[0m\u001b[0;34m,\u001b[0m\u001b[0mindices\u001b[0m\u001b[0;34m)\u001b[0m\u001b[0;34m]\u001b[0m\u001b[0;34m)\u001b[0m\u001b[0;34m)\u001b[0m \u001b[0;34m<\u001b[0m \u001b[0;36m1\u001b[0m\u001b[0;34m,\u001b[0m \u001b[0;34m(\u001b[0m\u001b[0mradius\u001b[0m\u001b[0;34m(\u001b[0m\u001b[0mA\u001b[0m\u001b[0;34m[\u001b[0m\u001b[0mnp\u001b[0m\u001b[0;34m.\u001b[0m\u001b[0mix_\u001b[0m\u001b[0;34m(\u001b[0m\u001b[0mindices\u001b[0m\u001b[0;34m,\u001b[0m\u001b[0mindices\u001b[0m\u001b[0;34m)\u001b[0m\u001b[0;34m]\u001b[0m\u001b[0;34m)\u001b[0m\u001b[0;34m,\u001b[0m \u001b[0mradius\u001b[0m\u001b[0;34m(\u001b[0m\u001b[0mnp\u001b[0m\u001b[0;34m.\u001b[0m\u001b[0mabs\u001b[0m\u001b[0;34m(\u001b[0m\u001b[0mA\u001b[0m\u001b[0;34m[\u001b[0m\u001b[0mnp\u001b[0m\u001b[0;34m.\u001b[0m\u001b[0mix_\u001b[0m\u001b[0;34m(\u001b[0m\u001b[0mindices\u001b[0m\u001b[0;34m,\u001b[0m\u001b[0mindices\u001b[0m\u001b[0;34m)\u001b[0m\u001b[0;34m]\u001b[0m\u001b[0;34m)\u001b[0m\u001b[0;34m)\u001b[0m\u001b[0;34m,\u001b[0m\u001b[0mradius\u001b[0m\u001b[0;34m(\u001b[0m\u001b[0mnp\u001b[0m\u001b[0;34m.\u001b[0m\u001b[0mabs\u001b[0m\u001b[0;34m(\u001b[0m\u001b[0mA\u001b[0m\u001b[0;34m)\u001b[0m\u001b[0;34m)\u001b[0m\u001b[0;34m)\u001b[0m\u001b[0;34m\u001b[0m\u001b[0;34m\u001b[0m\u001b[0m\n\u001b[0m",
      "\u001b[0;31mAssertionError\u001b[0m: (0.44721359549995787, 1.084428877022476, 1.2663444442733511)"
     ]
    }
   ],
   "source": [
    "# Check if linearization preserves strong simplicity (it does not)\n",
    "epsilon = 1e-5\n",
    "\n",
    "for n in range(2,5):\n",
    "    print(\"n={}\".format(n))\n",
    "    time.sleep(0.5)\n",
    "    for i in tqdm(range(100)):\n",
    "        A = generate_simple(-2,2,n,rnd=1,seconds=600)\n",
    "        for k in range(1,n):\n",
    "            for indices in combinations(range(n),k):\n",
    "                assert radius(A[np.ix_(indices,indices)]) < 1, (radius(A[np.ix_(indices,indices)]), radius(A))\n",
    "                assert radius(np.abs(A[np.ix_(indices,indices)])) < 1, (radius(A[np.ix_(indices,indices)]), radius(np.abs(A[np.ix_(indices,indices)])),radius(np.abs(A)))"
   ]
  },
  {
   "cell_type": "code",
   "execution_count": 13,
   "id": "3d6adde1",
   "metadata": {},
   "outputs": [
    {
     "name": "stdout",
     "output_type": "stream",
     "text": [
      "n=2\n"
     ]
    },
    {
     "name": "stderr",
     "output_type": "stream",
     "text": [
      " 13%|█▎        | 13/100 [00:00<00:00, 1254.71it/s]\n"
     ]
    },
    {
     "ename": "AssertionError",
     "evalue": "(array([[-0. , -0.1],\n       [ 1.2, -1. ]]), (1,), 2.0, 0.0)",
     "output_type": "error",
     "traceback": [
      "\u001b[0;31m---------------------------------------------------------------------------\u001b[0m",
      "\u001b[0;31mAssertionError\u001b[0m                            Traceback (most recent call last)",
      "\u001b[0;32m<ipython-input-13-2a36fec11f46>\u001b[0m in \u001b[0;36m<module>\u001b[0;34m\u001b[0m\n\u001b[1;32m     10\u001b[0m             \u001b[0;32mfor\u001b[0m \u001b[0mindices\u001b[0m \u001b[0;32min\u001b[0m \u001b[0mcombinations\u001b[0m\u001b[0;34m(\u001b[0m\u001b[0mrange\u001b[0m\u001b[0;34m(\u001b[0m\u001b[0mn\u001b[0m\u001b[0;34m)\u001b[0m\u001b[0;34m,\u001b[0m\u001b[0mk\u001b[0m\u001b[0;34m)\u001b[0m\u001b[0;34m:\u001b[0m\u001b[0;34m\u001b[0m\u001b[0;34m\u001b[0m\u001b[0m\n\u001b[1;32m     11\u001b[0m                 \u001b[0;32massert\u001b[0m \u001b[0mnp\u001b[0m\u001b[0;34m.\u001b[0m\u001b[0mlinalg\u001b[0m\u001b[0;34m.\u001b[0m\u001b[0mdet\u001b[0m\u001b[0;34m(\u001b[0m\u001b[0mnp\u001b[0m\u001b[0;34m.\u001b[0m\u001b[0meye\u001b[0m\u001b[0;34m(\u001b[0m\u001b[0mk\u001b[0m\u001b[0;34m)\u001b[0m \u001b[0;34m-\u001b[0m \u001b[0mA\u001b[0m\u001b[0;34m[\u001b[0m\u001b[0mnp\u001b[0m\u001b[0;34m.\u001b[0m\u001b[0mix_\u001b[0m\u001b[0;34m(\u001b[0m\u001b[0mindices\u001b[0m\u001b[0;34m,\u001b[0m\u001b[0mindices\u001b[0m\u001b[0;34m)\u001b[0m\u001b[0;34m]\u001b[0m\u001b[0;34m)\u001b[0m \u001b[0;34m!=\u001b[0m \u001b[0;36m0.\u001b[0m\u001b[0;34m\u001b[0m\u001b[0;34m\u001b[0m\u001b[0m\n\u001b[0;32m---> 12\u001b[0;31m                 \u001b[0;32massert\u001b[0m \u001b[0mnp\u001b[0m\u001b[0;34m.\u001b[0m\u001b[0mlinalg\u001b[0m\u001b[0;34m.\u001b[0m\u001b[0mdet\u001b[0m\u001b[0;34m(\u001b[0m\u001b[0mnp\u001b[0m\u001b[0;34m.\u001b[0m\u001b[0meye\u001b[0m\u001b[0;34m(\u001b[0m\u001b[0mk\u001b[0m\u001b[0;34m)\u001b[0m \u001b[0;34m-\u001b[0m \u001b[0mnp\u001b[0m\u001b[0;34m.\u001b[0m\u001b[0mabs\u001b[0m\u001b[0;34m(\u001b[0m\u001b[0mA\u001b[0m\u001b[0;34m[\u001b[0m\u001b[0mnp\u001b[0m\u001b[0;34m.\u001b[0m\u001b[0mix_\u001b[0m\u001b[0;34m(\u001b[0m\u001b[0mindices\u001b[0m\u001b[0;34m,\u001b[0m\u001b[0mindices\u001b[0m\u001b[0;34m)\u001b[0m\u001b[0;34m]\u001b[0m\u001b[0;34m)\u001b[0m\u001b[0;34m)\u001b[0m \u001b[0;34m!=\u001b[0m \u001b[0;36m0.\u001b[0m\u001b[0;34m,\u001b[0m \u001b[0;34m(\u001b[0m\u001b[0mA\u001b[0m\u001b[0;34m,\u001b[0m\u001b[0mindices\u001b[0m\u001b[0;34m,\u001b[0m\u001b[0mnp\u001b[0m\u001b[0;34m.\u001b[0m\u001b[0mlinalg\u001b[0m\u001b[0;34m.\u001b[0m\u001b[0mdet\u001b[0m\u001b[0;34m(\u001b[0m\u001b[0mnp\u001b[0m\u001b[0;34m.\u001b[0m\u001b[0meye\u001b[0m\u001b[0;34m(\u001b[0m\u001b[0mk\u001b[0m\u001b[0;34m)\u001b[0m \u001b[0;34m-\u001b[0m \u001b[0mA\u001b[0m\u001b[0;34m[\u001b[0m\u001b[0mnp\u001b[0m\u001b[0;34m.\u001b[0m\u001b[0mix_\u001b[0m\u001b[0;34m(\u001b[0m\u001b[0mindices\u001b[0m\u001b[0;34m,\u001b[0m\u001b[0mindices\u001b[0m\u001b[0;34m)\u001b[0m\u001b[0;34m]\u001b[0m\u001b[0;34m)\u001b[0m\u001b[0;34m,\u001b[0m \u001b[0mnp\u001b[0m\u001b[0;34m.\u001b[0m\u001b[0mlinalg\u001b[0m\u001b[0;34m.\u001b[0m\u001b[0mdet\u001b[0m\u001b[0;34m(\u001b[0m\u001b[0mnp\u001b[0m\u001b[0;34m.\u001b[0m\u001b[0meye\u001b[0m\u001b[0;34m(\u001b[0m\u001b[0mk\u001b[0m\u001b[0;34m)\u001b[0m \u001b[0;34m-\u001b[0m \u001b[0mnp\u001b[0m\u001b[0;34m.\u001b[0m\u001b[0mabs\u001b[0m\u001b[0;34m(\u001b[0m\u001b[0mA\u001b[0m\u001b[0;34m[\u001b[0m\u001b[0mnp\u001b[0m\u001b[0;34m.\u001b[0m\u001b[0mix_\u001b[0m\u001b[0;34m(\u001b[0m\u001b[0mindices\u001b[0m\u001b[0;34m,\u001b[0m\u001b[0mindices\u001b[0m\u001b[0;34m)\u001b[0m\u001b[0;34m]\u001b[0m\u001b[0;34m)\u001b[0m\u001b[0;34m)\u001b[0m\u001b[0;34m)\u001b[0m\u001b[0;34m\u001b[0m\u001b[0;34m\u001b[0m\u001b[0m\n\u001b[0m",
      "\u001b[0;31mAssertionError\u001b[0m: (array([[-0. , -0.1],\n       [ 1.2, -1. ]]), (1,), 2.0, 0.0)"
     ]
    }
   ],
   "source": [
    "# # Check if linearization preserves simplicity (it does not)\n",
    "# epsilon = 1e-5\n",
    "\n",
    "# for n in range(2,5):\n",
    "#     print(\"n={}\".format(n))\n",
    "#     time.sleep(0.5)\n",
    "#     for i in tqdm(range(100)):\n",
    "#         A = generate_simple(-2,2,n,rnd=1,seconds=600)\n",
    "#         for k in range(1,n):\n",
    "#             for indices in combinations(range(n),k):\n",
    "#                 assert np.linalg.det(np.eye(k) - A[np.ix_(indices,indices)]) != 0.\n",
    "#                 assert np.linalg.det(np.eye(k) - np.abs(A[np.ix_(indices,indices)])) != 0., (A,indices,np.linalg.det(np.eye(k) - A[np.ix_(indices,indices)]), np.linalg.det(np.eye(k) - np.abs(A[np.ix_(indices,indices)])))"
   ]
  },
  {
   "cell_type": "code",
   "execution_count": 5,
   "id": "637a730d",
   "metadata": {},
   "outputs": [
    {
     "ename": "ValueError",
     "evalue": "",
     "output_type": "error",
     "traceback": [
      "\u001b[0;31m---------------------------------------------------------------------------\u001b[0m",
      "\u001b[0;31mValueError\u001b[0m                                Traceback (most recent call last)",
      "\u001b[0;32m<ipython-input-5-e4c8e09828d5>\u001b[0m in \u001b[0;36m<module>\u001b[0;34m\u001b[0m\n\u001b[0;32m----> 1\u001b[0;31m \u001b[0;32mraise\u001b[0m \u001b[0mValueError\u001b[0m\u001b[0;34m\u001b[0m\u001b[0;34m\u001b[0m\u001b[0m\n\u001b[0m",
      "\u001b[0;31mValueError\u001b[0m: "
     ]
    }
   ],
   "source": [
    "raise ValueError"
   ]
  },
  {
   "cell_type": "code",
   "execution_count": null,
   "id": "ad0ee9bc",
   "metadata": {},
   "outputs": [],
   "source": [
    "# Verify that ...\n",
    "epsilon = 1e-5\n",
    "\n",
    "for n in range(2,5):\n",
    "    print(\"n={}\".format(n))\n",
    "    time.sleep(0.5)\n",
    "    for i in tqdm(range(100)):\n",
    "        A = generate_simple(-2,2,n,rnd=1,seconds=600)\n",
    "        for k in range(1,n):\n",
    "            for indices in combinations(range(n),k):\n",
    "                assert radius(A[np.ix_(indices,indices)]) <= 1 + epsilon, (radius(A[np.ix_(indices,indices)]), radius(A))"
   ]
  },
  {
   "cell_type": "code",
   "execution_count": 97,
   "id": "19010aa6",
   "metadata": {},
   "outputs": [
    {
     "name": "stdout",
     "output_type": "stream",
     "text": [
      "[[-0.3 -0.6 -0.1]\n",
      " [ 0.4  0.3 -0.3]\n",
      " [ 1.3 -0.5 -0.1]]\n",
      "0.7369762099857852\n",
      "1.1425652340447794\n",
      "0.7369762099857863\n"
     ]
    }
   ],
   "source": [
    "lower, upper = -2, 2\n",
    "n = 3\n",
    "\n",
    "B = generate_simple(lower,upper,n,rnd=1,seconds=60)\n",
    "print(B)\n",
    "print(radius(B))\n",
    "print(radius(np.abs(B)))\n",
    "\n",
    "A = np.abs(B)\n",
    "A *= radius(B)/radius(A)\n",
    "\n",
    "print(radius(A))"
   ]
  },
  {
   "cell_type": "code",
   "execution_count": null,
   "id": "9ebd5baf",
   "metadata": {},
   "outputs": [],
   "source": []
  }
 ],
 "metadata": {
  "kernelspec": {
   "display_name": "Python 3",
   "language": "python",
   "name": "python3"
  },
  "language_info": {
   "codemirror_mode": {
    "name": "ipython",
    "version": 3
   },
   "file_extension": ".py",
   "mimetype": "text/x-python",
   "name": "python",
   "nbconvert_exporter": "python",
   "pygments_lexer": "ipython3",
   "version": "3.8.5"
  }
 },
 "nbformat": 4,
 "nbformat_minor": 5
}
