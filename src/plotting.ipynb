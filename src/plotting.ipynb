{
 "cells": [
  {
   "cell_type": "code",
   "execution_count": 1,
   "id": "2cc417f9",
   "metadata": {},
   "outputs": [],
   "source": [
    "import numpy as np"
   ]
  },
  {
   "cell_type": "markdown",
   "id": "a423615d",
   "metadata": {},
   "source": [
    "### Research question\n",
    "Is d-separation valid for intrinsic SCMs? That is, cyclic SCMs satisfiying $\\rho(|A|)<1$, where $A$ is the Lipschitz matrix of the structural functions $F$?"
   ]
  },
  {
   "cell_type": "markdown",
   "id": "3f550bad",
   "metadata": {},
   "source": [
    "I need methods for:\n",
    "- sampling (enumerating?) from all possible cyclic graphs $G$ of size n\n",
    "- sampling SCMs which fit $G$ (ideally including a mix of intrinsic and not)\n",
    "- determining if an SCM $M$ is intrinsic\n",
    "- constructing the graph $G$, given $M$ (unnecessary?)\n",
    "- finding all d-separation statements from a cyclic graph $G$\n",
    "- sampling a dataset from the observational distribution $P(V)$ of $M$\n",
    "- checking whether an independence holds in the dataset from $P(V)$"
   ]
  },
  {
   "cell_type": "markdown",
   "id": "e26ca0be",
   "metadata": {},
   "source": [
    "Relevant resources:\n",
    "- Constraint-based Causal Discovery for Non-Linear Structural Causal Models with Cycles and Latent Confounders, Mooji et. al.\n",
    "- PYCID"
   ]
  },
  {
   "cell_type": "code",
   "execution_count": 2,
   "id": "5bc0a5c5",
   "metadata": {},
   "outputs": [],
   "source": [
    "import numpy as np\n",
    "import helper_functions as hf\n",
    "from matplotlib import pyplot as plt\n",
    "import time\n",
    "import networkx as nx\n",
    "from tqdm import tqdm\n",
    "from itertools import combinations\n",
    "import pickle"
   ]
  },
  {
   "cell_type": "code",
   "execution_count": 3,
   "id": "a6f23335",
   "metadata": {},
   "outputs": [],
   "source": [
    "def aggregate_data(intrinsic_data, non_intrinsic_data, high_lipschitz_data):\n",
    "    all_int_pvals, all_non_pvals, all_high_pvals = [], [], []\n",
    "\n",
    "    for key, (Adj,Adj_d_seps) in intrinsic_data.items():\n",
    "\n",
    "        (nAdj,nAdj_d_seps) = non_intrinsic_data[key]\n",
    "        (hAdj,hAdj_d_seps) = high_lipschitz_data[key]\n",
    "        assert np.allclose(Adj,nAdj)\n",
    "        assert np.allclose(Adj,hAdj)\n",
    "\n",
    "        for candidate, int_pvals in Adj_d_seps.items():\n",
    "            non_pvals = nAdj_d_seps[candidate]\n",
    "            high_pvals = hAdj_d_seps[candidate]\n",
    "            all_int_pvals.extend(int_pvals)\n",
    "            all_non_pvals.extend(non_pvals)\n",
    "            all_high_pvals.extend(high_pvals)\n",
    "    return all_int_pvals, all_non_pvals, all_high_pvals"
   ]
  },
  {
   "cell_type": "code",
   "execution_count": 4,
   "id": "99dee62a",
   "metadata": {},
   "outputs": [],
   "source": [
    "intrinsic_data = pickle.load(open( \"intrinsic_data.p\", \"rb\" ) )\n",
    "non_intrinsic_data = pickle.load(open( \"non_intrinsic_data.p\", \"rb\" ) )\n",
    "high_lipschitz_data = pickle.load(open( \"high_lipschitz_data.p\", \"rb\" ) )"
   ]
  },
  {
   "cell_type": "code",
   "execution_count": 5,
   "id": "1e9cdd1f",
   "metadata": {},
   "outputs": [],
   "source": [
    "all_int_pvals, all_non_pvals, all_high_pvals = aggregate_data(intrinsic_data, non_intrinsic_data, high_lipschitz_data)"
   ]
  },
  {
   "cell_type": "code",
   "execution_count": 10,
   "id": "d79afa9e",
   "metadata": {},
   "outputs": [],
   "source": [
    "def plot_aggregate(int_pvals,non_pvals,high_pvals):\n",
    "    plt.rcParams.update({'font.size': 22})\n",
    "    plt.figure(figsize=(9, 3))\n",
    "    plt.hist(int_pvals,label=r\"$\\rho(|A|)<1$\",alpha=0.7,color='y',bins=30)\n",
    "    plt.hist(non_pvals,label=r\"$\\rho(A)<1$\",alpha=0.5,color='b',bins=30)\n",
    "    plt.hist(high_pvals,label=r\"$\\rho(A)>1$\",alpha=0.4,color='r',bins=30)\n",
    "    plt.axis([0, 1, 0, 1200])\n",
    "    plt.xlabel(\"P-value (fcit)\")\n",
    "    plt.ylabel(\"freq\")\n",
    "    plt.legend()\n",
    "    plt.title(\"Aggregated Pvals: All G of n=4, 10 pvals per\",fontsize=22)\n",
    "#     plt.show()\n",
    "    plt.savefig(\"aggregated_plot.png\")"
   ]
  },
  {
   "cell_type": "code",
   "execution_count": 11,
   "id": "e30b5250",
   "metadata": {},
   "outputs": [
    {
     "data": {
      "image/png": "[encoded data removed]",
      "text/plain": [
       "<Figure size 648x216 with 1 Axes>"
      ]
     },
     "metadata": {
      "needs_background": "light"
     },
     "output_type": "display_data"
    }
   ],
   "source": [
    "plot_aggregate(all_int_pvals, all_non_pvals, all_high_pvals)"
   ]
  },
  {
   "cell_type": "code",
   "execution_count": null,
   "id": "91321399",
   "metadata": {},
   "outputs": [],
   "source": []
  }
 ],
 "metadata": {
  "kernelspec": {
   "display_name": "Python 3",
   "language": "python",
   "name": "python3"
  },
  "language_info": {
   "codemirror_mode": {
    "name": "ipython",
    "version": 3
   },
   "file_extension": ".py",
   "mimetype": "text/x-python",
   "name": "python",
   "nbconvert_exporter": "python",
   "pygments_lexer": "ipython3",
   "version": "3.8.5"
  }
 },
 "nbformat": 4,
 "nbformat_minor": 5
}
