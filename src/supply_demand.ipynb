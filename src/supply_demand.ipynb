{
 "cells": [
  {
   "cell_type": "markdown",
   "id": "a423615d",
   "metadata": {},
   "source": [
    "### Goal\n",
    "Find an SCM which represents a plausible supply-and-demand market."
   ]
  },
  {
   "cell_type": "code",
   "execution_count": 1,
   "id": "5bc0a5c5",
   "metadata": {},
   "outputs": [],
   "source": [
    "import numpy as np\n",
    "import helper_functions as hf\n",
    "from matplotlib import pyplot as plt\n",
    "import time\n",
    "import networkx as nx\n",
    "from tqdm import tqdm\n",
    "from itertools import combinations"
   ]
  },
  {
   "cell_type": "code",
   "execution_count": 2,
   "id": "fde2d27b",
   "metadata": {},
   "outputs": [],
   "source": [
    "# Adj = np.ones((4,4))\n",
    "# Adj[0,0] = 0\n",
    "# structure = hf.sample_market(Adj)\n",
    "# obs_data = hf.sample_observational(structure)"
   ]
  },
  {
   "cell_type": "code",
   "execution_count": 3,
   "id": "6dc26868",
   "metadata": {},
   "outputs": [
    {
     "name": "stdout",
     "output_type": "stream",
     "text": [
      "[[0 1 0]\n",
      " [1 1 1]\n",
      " [0 1 0]]\n"
     ]
    }
   ],
   "source": [
    "Adj = np.array([[0,1,0],[1,1,1],[0,1,0]])\n",
    "print(Adj)\n",
    "for candidate in hf.all_d_separations(Adj):\n",
    "    print(candidate)"
   ]
  },
  {
   "cell_type": "code",
   "execution_count": 4,
   "id": "e08a1861",
   "metadata": {},
   "outputs": [],
   "source": [
    "Fs = lambda P, Us: a*P**2 + Us\n",
    "Fd = lambda P, X, Ud: -b*X*P + Ud\n",
    "Fp = lambda P, S, D: P + D - S\n",
    "Fx = lambda P, Ux: P*Ux"
   ]
  },
  {
   "cell_type": "code",
   "execution_count": 5,
   "id": "26f3c7be",
   "metadata": {},
   "outputs": [],
   "source": [
    "def sample_market_pure():\n",
    "    a = np.random.uniform(.5,2)\n",
    "    b = np.random.uniform(.5,2)\n",
    "    Fs = lambda P, Us: a*P**2 + Us\n",
    "    Fd = lambda P, X, Ud: -b*X*P + Ud\n",
    "    Fp = lambda P, S, D: P + D - S\n",
    "    Fx = lambda P, Ux: P*Ux\n",
    "    \n",
    "    def F(data):\n",
    "        \"Accepts 1d data, and computes update\"\n",
    "        So,Do,Po,Xo = data.reshape((4,None))\n",
    "        S = Fs(P,Us)\n",
    "        D = Fd(P,X,Ud)\n",
    "        P = Fp(P,S,D)\n",
    "        X = Fx(P,Ux)\n",
    "        return np.hstack((S,D,P,X))\n",
    "    \n",
    "    return (F,(a,b),(Fs,Fd,Fp,Fx))"
   ]
  },
  {
   "cell_type": "code",
   "execution_count": 6,
   "id": "70967ba2",
   "metadata": {},
   "outputs": [
    {
     "data": {
      "image/png": "[encoded data removed]",
      "text/plain": [
       "<Figure size 432x288 with 1 Axes>"
      ]
     },
     "metadata": {
      "needs_background": "light"
     },
     "output_type": "display_data"
    }
   ],
   "source": [
    "# visualize a single graph\n",
    "\n",
    "(F,(a,b),(Fs,Fd,Fp,Fx)) = sample_market_pure()\n",
    "\n",
    "Us = np.random.uniform(0,100)\n",
    "Ud = np.random.uniform(100,200)\n",
    "Ux = np.random.uniform(.5,1.7)\n",
    "\n",
    "P = np.linspace(0,100,100)\n",
    "S = Fs(P,Us)\n",
    "X = Fx(P,Ux)\n",
    "D = Fd(P,X,Ud)\n",
    "\n",
    "m = D > 0\n",
    "\n",
    "plt.plot(P[m],S[m]) # reverse of convention\n",
    "plt.plot(P[m],D[m]) # reverse of convention\n",
    "plt.show()"
   ]
  },
  {
   "cell_type": "code",
   "execution_count": 7,
   "id": "af5d3b86",
   "metadata": {},
   "outputs": [
    {
     "data": {
      "image/png": "[encoded data removed]",
      "text/plain": [
       "<Figure size 432x288 with 1 Axes>"
      ]
     },
     "metadata": {
      "needs_background": "light"
     },
     "output_type": "display_data"
    },
    {
     "data": {
      "image/png": "[encoded data removed]",
      "text/plain": [
       "<Figure size 432x288 with 1 Axes>"
      ]
     },
     "metadata": {
      "needs_background": "light"
     },
     "output_type": "display_data"
    }
   ],
   "source": [
    "# Visualize how the ratio of the slopes at the equilibria are distributed\n",
    "ratios = []\n",
    "for i in range(1000):\n",
    "    a = np.random.uniform(.5,2)\n",
    "    b = np.random.uniform(.5,2)\n",
    "\n",
    "    Us = np.random.uniform(0,100)\n",
    "    Ud = np.random.uniform(100,200)\n",
    "    Ux = np.random.uniform(.5,1.7)\n",
    "\n",
    "    P = np.linspace(0,100,100)\n",
    "    S = Fs(P,Us)\n",
    "    X = Fx(P,Ux)\n",
    "    D = Fd(P,X,Ud)\n",
    "\n",
    "    m = D > 0\n",
    "\n",
    "    # for item in [P,S,X,D]:\n",
    "    #     plt.hist(item)\n",
    "    #     plt.show()\n",
    "\n",
    "    ratios.append(a/(b*Ux))\n",
    "#     plt.plot(P[m],S[m]) # reverse of convention\n",
    "#     plt.plot(P[m],D[m]) # reverse of convention\n",
    "#     plt.show()\n",
    "\n",
    "plt.hist(np.log(ratios))\n",
    "plt.show()\n",
    "plt.hist(ratios)\n",
    "plt.show()"
   ]
  },
  {
   "cell_type": "markdown",
   "id": "0cb62790",
   "metadata": {},
   "source": [
    "nonlinear: https://baelearn.uncg.edu/wordpress/ecomathreview/wp-content/uploads/sites/29/2015/04/NonlinearSupplyAndDemandTranscript.pdf\n",
    "\n",
    "multi-dimensional: https://www.bengillen.com/uploads/1/2/3/8/123891022/blpcomplexproducts.pdf\n",
    "\n",
    "a mix of both? https://www.econstor.eu/bitstream/10419/162075/1/857203274.pdf\n",
    "\n",
    "search: \"high dimensional supply and demand models\"\n",
    "\n",
    "wikipedia, common demand functions: https://en.wikipedia.org/wiki/Supply_and_demand#Partial_equilibrium"
   ]
  },
  {
   "cell_type": "code",
   "execution_count": null,
   "id": "8fa67e5d",
   "metadata": {},
   "outputs": [],
   "source": []
  }
 ],
 "metadata": {
  "kernelspec": {
   "display_name": "Python 3",
   "language": "python",
   "name": "python3"
  },
  "language_info": {
   "codemirror_mode": {
    "name": "ipython",
    "version": 3
   },
   "file_extension": ".py",
   "mimetype": "text/x-python",
   "name": "python",
   "nbconvert_exporter": "python",
   "pygments_lexer": "ipython3",
   "version": "3.8.5"
  }
 },
 "nbformat": 4,
 "nbformat_minor": 5
}
